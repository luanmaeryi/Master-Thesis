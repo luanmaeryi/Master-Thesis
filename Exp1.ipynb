{
 "cells": [
  {
   "cell_type": "code",
   "execution_count": 12,
   "metadata": {},
   "outputs": [],
   "source": [
    "import numpy as np\n",
    "import matplotlib.pyplot as plt\n",
    "import matplotlib as mpl\n",
    "from array import array\n",
    "import time\n",
    "import scipy.stats as st\n",
    "import seaborn as sns\n",
    "import pandas as pd\n",
    "import math\n",
    "import pickle"
   ]
  },
  {
   "cell_type": "code",
   "execution_count": 13,
   "metadata": {},
   "outputs": [],
   "source": [
    "from TypicalMH import MH \n",
    "from TypicalMH import APMHT\n",
    "from TypicalMH import Conf \n",
    "from TypicalMH import MiniMH"
   ]
  },
  {
   "cell_type": "code",
   "execution_count": 14,
   "metadata": {},
   "outputs": [],
   "source": [
    "\n",
    "#proir function\n",
    "def pior(theta,p_mu=1,p_sigma=1):\n",
    "    return st.norm.pdf(theta,p_mu,p_sigma)\n",
    "def logpior(theta,p_mu=1,p_sigma=1):\n",
    "    return np.log(st.norm.pdf(theta,p_mu,p_sigma))\n",
    "def lik(i,z,theta):\n",
    "    return st.norm.pdf(z[i],theta,1)\n",
    "def loglik(i,z,theta):\n",
    "    return np.log(st.norm.pdf(z[i],theta,1))"
   ]
  },
  {
   "cell_type": "code",
   "execution_count": 15,
   "metadata": {},
   "outputs": [],
   "source": [
    "#parameters\n",
    "n=10000\n",
    "l_mu=[1]\n",
    "T=100\n",
    "ep=0.05\n",
    "m=100\n",
    "\n",
    "theta_ini=l_mu\n"
   ]
  },
  {
   "cell_type": "code",
   "execution_count": 16,
   "metadata": {},
   "outputs": [],
   "source": [
    "#data\n",
    "z=np.random.normal(1, 1, n)\n",
    "x=z.reshape((n,1))"
   ]
  },
  {
   "cell_type": "markdown",
   "metadata": {},
   "source": [
    "MH"
   ]
  },
  {
   "cell_type": "code",
   "execution_count": 17,
   "metadata": {},
   "outputs": [
    {
     "name": "stdout",
     "output_type": "stream",
     "text": [
      "0.11163735389709473\n"
     ]
    }
   ],
   "source": [
    "tn=MH(z,T,l_mu,logpior,loglik)"
   ]
  },
  {
   "cell_type": "markdown",
   "metadata": {},
   "source": [
    "APMHT"
   ]
  },
  {
   "cell_type": "code",
   "execution_count": 18,
   "metadata": {},
   "outputs": [
    {
     "name": "stdout",
     "output_type": "stream",
     "text": [
      "0.07471704483032227\n",
      "10200\n"
     ]
    }
   ],
   "source": [
    "tnA,nleA=APMHT(z, T, ep, m, theta_ini,logpior,loglik)"
   ]
  },
  {
   "cell_type": "markdown",
   "metadata": {},
   "source": [
    "Confidence Sampler"
   ]
  },
  {
   "cell_type": "code",
   "execution_count": 19,
   "metadata": {},
   "outputs": [
    {
     "name": "stdout",
     "output_type": "stream",
     "text": [
      "0.48091793060302734\n",
      "982400.0\n"
     ]
    }
   ],
   "source": [
    "tnC,nleC=Conf(z,T,m,theta_ini,logpior,loglik)"
   ]
  },
  {
   "cell_type": "markdown",
   "metadata": {},
   "source": [
    "Minibatch MH"
   ]
  },
  {
   "cell_type": "code",
   "execution_count": 20,
   "metadata": {},
   "outputs": [
    {
     "name": "stdout",
     "output_type": "stream",
     "text": [
      "1.334259033203125\n",
      "full_N_time: 6\n",
      "num_Xc: 94\n"
     ]
    }
   ],
   "source": [
    "tnM,nleM=MiniMH(z,T,m,theta_ini,logpior,loglik)"
   ]
  },
  {
   "cell_type": "markdown",
   "metadata": {},
   "source": [
    "PMMIN"
   ]
  },
  {
   "cell_type": "code",
   "execution_count": 21,
   "metadata": {},
   "outputs": [],
   "source": [
    "from PMMINMethod import clustering \n",
    "from PMMINMethod import generateB\n",
    "from PMMINMethod import PMMIN \n"
   ]
  },
  {
   "cell_type": "code",
   "execution_count": 22,
   "metadata": {},
   "outputs": [],
   "source": [
    "#一维正态分布\n",
    "def piorN(theta,p_mu=1,p_sigma=1):\n",
    "    #先验分布 均值为1 方差为0.3的正态分布\n",
    "    return st.norm.pdf(theta,p_mu,p_sigma)\n",
    "def logpriorN(theta,p_mu=1,p_sigma=1):\n",
    "    #先验分布 均值为1 方差为0.3的正态分布取对数\n",
    "    return np.log(st.norm.pdf(theta,p_mu,p_sigma))\n",
    "\n",
    "def likN(z,theta):\n",
    "    #似然函数为均值为theta，方差为1的正态分布\n",
    "    #对z的每一行计算正态分布的密度函数，相当于计算每一个样本点d维的似然\n",
    "    #z的尺寸为n*d 返回值为n*d\n",
    "    return st.norm.pdf(z,theta,1)\n",
    "\n",
    "def loglikN(z,theta):\n",
    "    #对z的第i行计算正态分布的密度函数取对数\n",
    "    return np.log(st.norm.pdf(z,theta,1))\n",
    "\n",
    "def gradient_llik(z,theta):\n",
    "    #计算对数似然函数的梯度\n",
    "    return -(z-theta)\n",
    "\n",
    "def hessian_llik(z,theta):\n",
    "    if len(z.shape)<=1:\n",
    "        return -1*np.ones((z.shape[0],1))\n",
    "    return -1*np.ones((z.shape[0],z.shape[1]))"
   ]
  },
  {
   "cell_type": "code",
   "execution_count": 23,
   "metadata": {},
   "outputs": [],
   "source": [
    "outk,outz,C=clustering(x,0.05)\n",
    "data=x\n",
    "B=generateB(data,outk,outz,C)"
   ]
  },
  {
   "cell_type": "code",
   "execution_count": 24,
   "metadata": {},
   "outputs": [
    {
     "name": "stdout",
     "output_type": "stream",
     "text": [
      "8.610969066619873\n"
     ]
    }
   ],
   "source": [
    "m=100\n",
    "tnP=PMMIN(x,outz,outk,C,m,T, l_mu ,B, logpriorN,loglikN,gradient_llik,hessian_llik)"
   ]
  },
  {
   "cell_type": "markdown",
   "metadata": {},
   "source": [
    "plot"
   ]
  },
  {
   "cell_type": "code",
   "execution_count": 25,
   "metadata": {},
   "outputs": [
    {
     "data": {
      "text/plain": [
       "<matplotlib.legend.Legend at 0x1d6c9b14bb0>"
      ]
     },
     "execution_count": 25,
     "metadata": {},
     "output_type": "execute_result"
    },
    {
     "data": {
      "image/png": "[encoded data removed]",
      "text/plain": [
       "<Figure size 720x576 with 1 Axes>"
      ]
     },
     "metadata": {
      "needs_background": "light"
     },
     "output_type": "display_data"
    }
   ],
   "source": [
    "# Histograms for each gender\n",
    "\n",
    "plt.figure(figsize=(10, 8))\n",
    "sns.distplot(a=tn, label=\"MH\", kde=True)\n",
    "sns.distplot(a=tnA, label=\"AustMH\", kde=True)\n",
    "sns.distplot(a=tnC, label=\"MHSUBLHD\", kde=True)\n",
    "sns.distplot(a=tnM, label=\"MHMinibatch\", kde=True)\n",
    "sns.distplot(a=tnP, label=\"PMMIN\", kde=True)\n",
    "\n",
    "plt.xticks(size=18)\n",
    "plt.ylabel('Posterior Density',fontsize=18)\n",
    "plt.yticks(size=18)\n",
    "plt.xlabel('θ',fontsize=18)\n",
    "# Add title\n",
    "#plt.title('Posterior Distribution',size=18)\n",
    "# Force legend to appear\n",
    "plt.legend(fontsize=18)\n",
    "#sns.distplot(a=tn.transpose()[40001:50001,:], kde=False)\n",
    "#sns.distplot(z, kde=False)\n",
    "#sns.distplot(a=bayes, kde=False)"
   ]
  },
  {
   "cell_type": "markdown",
   "metadata": {},
   "source": [
    "# Test\n",
    "\n",
    "There is one example of the samples generating by APMHT.\n",
    "We show how to calculate the hellinger distance, the geweke test and the ESS.\n",
    "And nle means the number of subsampling."
   ]
  },
  {
   "cell_type": "code",
   "execution_count": 26,
   "metadata": {},
   "outputs": [],
   "source": [
    "import warnings\n",
    "warnings.filterwarnings('ignore')\n",
    "import rpy2\n",
    "import rpy2.ipython\n",
    "from rpy2 import robjects"
   ]
  },
  {
   "cell_type": "code",
   "execution_count": 33,
   "metadata": {},
   "outputs": [
    {
     "name": "stdout",
     "output_type": "stream",
     "text": [
      "The rpy2.ipython extension is already loaded. To reload it, use:\n",
      "  %reload_ext rpy2.ipython\n"
     ]
    }
   ],
   "source": [
    "%load_ext rpy2.ipython"
   ]
  },
  {
   "cell_type": "code",
   "execution_count": 34,
   "metadata": {},
   "outputs": [],
   "source": [
    "%%R\n",
    "require(mvtnorm)\n",
    "require(coda)\n",
    "require(ggplot2)\n",
    "require(ggpubr)\n",
    "require(rootSolve)\n",
    "require(plyr)\n",
    "require(pracma)"
   ]
  },
  {
   "cell_type": "code",
   "execution_count": 29,
   "metadata": {},
   "outputs": [
    {
     "name": "stdout",
     "output_type": "stream",
     "text": [
      "10.534502983093262\n"
     ]
    }
   ],
   "source": [
    "realmh=MH(z,10000,l_mu,logpior,loglik)"
   ]
  },
  {
   "cell_type": "code",
   "execution_count": 41,
   "metadata": {},
   "outputs": [
    {
     "name": "stdout",
     "output_type": "stream",
     "text": [
      "[1] 0.5636513\n"
     ]
    }
   ],
   "source": [
    "%%R -i realmh,tnA\n",
    "\n",
    "statip::hellinger(realmh,tnA)"
   ]
  },
  {
   "cell_type": "code",
   "execution_count": 42,
   "metadata": {},
   "outputs": [
    {
     "name": "stdout",
     "output_type": "stream",
     "text": [
      "\n",
      "Fraction in 1st window = 0.3\n",
      "Fraction in 2nd window = 0.7 \n",
      "\n",
      " var1 \n",
      "-0.72 \n",
      "\n"
     ]
    }
   ],
   "source": [
    "\n",
    "%%R -i tnP\n",
    "a<-as.mcmc(tnA)\n",
    "a<-as.numeric(a)\n",
    "effectiveSize(a)\n",
    "geweke.diag(a,frac1=0.3, frac2=0.7)"
   ]
  },
  {
   "cell_type": "code",
   "execution_count": 43,
   "metadata": {},
   "outputs": [
    {
     "data": {
      "text/html": [
       "\n",
       "        <span>FloatVector with 1 elements.</span>\n",
       "        <table>\n",
       "        <tbody>\n",
       "          <tr>\n",
       "          \n",
       "            <td>\n",
       "            14.786310\n",
       "            </td>\n",
       "          \n",
       "          </tr>\n",
       "        </tbody>\n",
       "        </table>\n",
       "        "
      ],
      "text/plain": [
       "<rpy2.robjects.vectors.FloatVector object at 0x000001D6C9B09C40> [RTYPES.REALSXP]\n",
       "R classes: ('numeric',)\n",
       "[14.786310]"
      ]
     },
     "execution_count": 43,
     "metadata": {},
     "output_type": "execute_result"
    }
   ],
   "source": [
    "#ESS\n",
    "robjects.r('a<-as.mcmc(tnA)')\n",
    "robjects.r('coda::effectiveSize(a<-as.numeric(a))')"
   ]
  },
  {
   "cell_type": "code",
   "execution_count": 39,
   "metadata": {},
   "outputs": [
    {
     "name": "stdout",
     "output_type": "stream",
     "text": [
      "0.08683371543884277\n",
      "10900\n",
      "0.06023979187011719\n",
      "10200\n",
      "0.06499052047729492\n",
      "10700\n",
      "0.0650637149810791\n",
      "11300\n",
      "0.0747988224029541\n",
      "11000\n"
     ]
    }
   ],
   "source": [
    "nle5=0\n",
    "nle=0\n",
    "for i in range(5):\n",
    "    tnA,nle=APMHT(z, T, ep, m, theta_ini,logpior,loglik)\n",
    "    nle5+=nle"
   ]
  },
  {
   "cell_type": "code",
   "execution_count": 40,
   "metadata": {},
   "outputs": [],
   "source": [
    "nleA=nle5/5"
   ]
  },
  {
   "cell_type": "code",
   "execution_count": null,
   "metadata": {},
   "outputs": [],
   "source": []
  }
 ],
 "metadata": {
  "kernelspec": {
   "display_name": "pytorch-cuda",
   "language": "python",
   "name": "pytorch-cuda"
  },
  "language_info": {
   "codemirror_mode": {
    "name": "ipython",
    "version": 3
   },
   "file_extension": ".py",
   "mimetype": "text/x-python",
   "name": "python",
   "nbconvert_exporter": "python",
   "pygments_lexer": "ipython3",
   "version": "3.9.10"
  },
  "varInspector": {
   "cols": {
    "lenName": 16,
    "lenType": 16,
    "lenVar": 40
   },
   "kernels_config": {
    "python": {
     "delete_cmd_postfix": "",
     "delete_cmd_prefix": "del ",
     "library": "var_list.py",
     "varRefreshCmd": "print(var_dic_list())"
    },
    "r": {
     "delete_cmd_postfix": ") ",
     "delete_cmd_prefix": "rm(",
     "library": "var_list.r",
     "varRefreshCmd": "cat(var_dic_list()) "
    }
   },
   "position": {
    "height": "428.829px",
    "left": "779.831px",
    "right": "20px",
    "top": "67.9782px",
    "width": "350px"
   },
   "types_to_exclude": [
    "module",
    "function",
    "builtin_function_or_method",
    "instance",
    "_Feature"
   ],
   "window_display": false
  }
 },
 "nbformat": 4,
 "nbformat_minor": 4
}
