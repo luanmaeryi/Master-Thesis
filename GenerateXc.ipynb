{
 "cells": [
  {
   "cell_type": "code",
   "execution_count": 2,
   "metadata": {},
   "outputs": [],
   "source": [
    "import numpy as np\n",
    "import matplotlib.pyplot as plt\n",
    "import matplotlib as mpl\n",
    "from array import array\n",
    "import time\n",
    "import scipy.stats as st\n",
    "import seaborn as sns\n",
    "import pandas as pd\n",
    "import math\n",
    "import pickle"
   ]
  },
  {
   "cell_type": "code",
   "execution_count": 4,
   "metadata": {},
   "outputs": [],
   "source": [
    "np.random.seed(0)\n",
    "def logist(x):\n",
    "    return 1/(1+np.exp(-x))\n",
    "def C_sigma(N,s_x,lbd):\n",
    "    #N为分割份数，V为区间边界，s_x为正态分布方差，lbd为lambda正则化项系数，论文中取10.\n",
    "    #第一个为起点，第二个为终点，第三个为步长。\n",
    "    V=10\n",
    "    i=np.arange(-2*N,2*N+1)\n",
    "    #i=np.arange(-N,N+1)\n",
    "    j=np.arange(-N,N+1)\n",
    "    X=i*V/N\n",
    "    Y=j*V/N\n",
    "    m=len(X)\n",
    "    n=len(Y)\n",
    "    X_1=X.reshape(m,1)\n",
    "    X_1=np.column_stack((X,np.ones((m,1))))\n",
    "    Y_1=Y.reshape(1,n)\n",
    "    Y_1=np.row_stack((np.ones((1,n)),-Y))\n",
    "    M=X_1.dot(Y_1)\n",
    "    \n",
    "    M=st.norm.cdf(M,0,s_x)\n",
    "    v=logist(X)\n",
    "    #v=st.norm.cdf(X,0,s_x)\n",
    "    u=M.T.dot(M)+lbd*np.eye((n))\n",
    "    u=np.linalg.inv(u).dot(M.T).dot(v)\n",
    "    return u"
   ]
  },
  {
   "cell_type": "code",
   "execution_count": 5,
   "metadata": {},
   "outputs": [],
   "source": [
    "N=4000\n",
    "V=10\n",
    "i=np.arange(-2*N,2*N+1)\n",
    "#i=np.arange(-N,N+1)\n",
    "j=np.arange(-N,N+1)\n",
    "X=i*V/N\n",
    "Y=j*V/N \n",
    "u=C_sigma(N,1,10)\n",
    "#u为密度函数"
   ]
  },
  {
   "cell_type": "code",
   "execution_count": 6,
   "metadata": {},
   "outputs": [
    {
     "data": {
      "text/plain": [
       "[<matplotlib.lines.Line2D at 0x211f2e42c10>]"
      ]
     },
     "execution_count": 6,
     "metadata": {},
     "output_type": "execute_result"
    },
    {
     "data": {
      "image/png": "[encoded data removed]",
      "text/plain": [
       "<Figure size 432x288 with 1 Axes>"
      ]
     },
     "metadata": {
      "needs_background": "light"
     },
     "output_type": "display_data"
    }
   ],
   "source": [
    "u=np.maximum(u,0)\n",
    "plt.plot(Y,u,label='sin(x)',color='red', linewidth=3,marker='o',markersize=3)"
   ]
  },
  {
   "cell_type": "code",
   "execution_count": 7,
   "metadata": {},
   "outputs": [
    {
     "data": {
      "text/plain": [
       "[<matplotlib.lines.Line2D at 0x211f2f33c10>]"
      ]
     },
     "execution_count": 7,
     "metadata": {},
     "output_type": "execute_result"
    },
    {
     "data": {
      "image/png": "[encoded data removed]",
      "text/plain": [
       "<Figure size 432x288 with 1 Axes>"
      ]
     },
     "metadata": {
      "needs_background": "light"
     },
     "output_type": "display_data"
    }
   ],
   "source": [
    "#计算累计分布cdf，并绘制图像\n",
    "def cdf_val(p,X):\n",
    "    p_norm = p/np.trapz(p,X)\n",
    "    return np.array([np.trapz(p_norm[:n],X[:n]) for n in range(len(p_norm))])  \n",
    "cdf=cdf_val(u,Y)\n",
    "plt.plot(Y,cdf,label='sin(x)',color='red', linewidth=3,marker='o',markersize=3)"
   ]
  },
  {
   "cell_type": "code",
   "execution_count": 8,
   "metadata": {},
   "outputs": [],
   "source": [
    "#xvals为累计分布函数的定义域，r为0到1的随机数\n",
    "def fun_inv(xvals,cdf_vals,r):\n",
    "    \"\"\"\n",
    "    函数是给定 0<u<1,然后根据xvals 和cdf_vals 定义的CDF函数，求出对应的x，使得CDF(x)约等于u\n",
    "    函数的思路是对于给定的u，找到cdf_vals中比u大的数，由于cdf_vals是和xvals是一一对应的，\n",
    "    所以可以找到大于 u 的cdf_vals中的最小值，对应的xvals就是对F^{-1}(u)的估计。 \n",
    "\n",
    "    这里要求xvals和cdf_vals都是升序排列的。\n",
    "    \"\"\"\n",
    "    if isinstance(r,np.ndarray):\n",
    "        assert(np.all(np.logical_and(0<r,r<1)))\n",
    "        num_u = r.shape[0]\n",
    "        xouts = np.zeros((num_u))\n",
    "        for ii in range(num_u):\n",
    "            inds = (cdf_vals>r[ii]).nonzero()\n",
    "            if len(inds[0])>0:\n",
    "                xouts[ii] = xvals[inds[0][0]]\n",
    "            else:\n",
    "                xouts[ii]=xvals[-1]\n",
    "        return xouts\n",
    "    else:\n",
    "        assert(0<r<1)\n",
    "        ind = (cdf_vals>r).nonzero()\n",
    "        xout = xvals[ind[0][0]]\n",
    "        return xout"
   ]
  },
  {
   "cell_type": "code",
   "execution_count": 9,
   "metadata": {},
   "outputs": [],
   "source": [
    "r=np.random.rand(4000)\n",
    "#y为在cdf中抽样的样本，样本量与r一致\n",
    "Xc_4000=fun_inv(Y,cdf,r)\n"
   ]
  },
  {
   "cell_type": "code",
   "execution_count": 10,
   "metadata": {},
   "outputs": [],
   "source": [
    "file = open('Xc_4000.pickle', 'wb') #以.pickle格式保存；二进制写入\n",
    "pickle.dump(Xc_4000, file) #将a_dict内容写入file\n",
    "file.close()"
   ]
  },
  {
   "cell_type": "code",
   "execution_count": null,
   "metadata": {},
   "outputs": [],
   "source": []
  }
 ],
 "metadata": {
  "kernelspec": {
   "display_name": "pytorch-cuda",
   "language": "python",
   "name": "pytorch-cuda"
  },
  "language_info": {
   "codemirror_mode": {
    "name": "ipython",
    "version": 3
   },
   "file_extension": ".py",
   "mimetype": "text/x-python",
   "name": "python",
   "nbconvert_exporter": "python",
   "pygments_lexer": "ipython3",
   "version": "3.9.10"
  },
  "varInspector": {
   "cols": {
    "lenName": 16,
    "lenType": 16,
    "lenVar": 40
   },
   "kernels_config": {
    "python": {
     "delete_cmd_postfix": "",
     "delete_cmd_prefix": "del ",
     "library": "var_list.py",
     "varRefreshCmd": "print(var_dic_list())"
    },
    "r": {
     "delete_cmd_postfix": ") ",
     "delete_cmd_prefix": "rm(",
     "library": "var_list.r",
     "varRefreshCmd": "cat(var_dic_list()) "
    }
   },
   "types_to_exclude": [
    "module",
    "function",
    "builtin_function_or_method",
    "instance",
    "_Feature"
   ],
   "window_display": false
  }
 },
 "nbformat": 4,
 "nbformat_minor": 4
}
